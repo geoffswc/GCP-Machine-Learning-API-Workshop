{
  "nbformat": 4,
  "nbformat_minor": 0,
  "metadata": {
    "colab": {
      "name": "Extraction-Sentiment-Category.ipynb",
      "provenance": [],
      "collapsed_sections": []
    },
    "kernelspec": {
      "name": "python3",
      "display_name": "Python 3"
    }
  },
  "cells": [
    {
      "cell_type": "code",
      "metadata": {
        "id": "OlqI3tEfuXSd",
        "colab_type": "code",
        "colab": {}
      },
      "source": [
        "# https://colab.research.google.com/drive/1hPH7skySCZR-ZMJ6TmYLN1ug6vbq2cpb"
      ],
      "execution_count": 0,
      "outputs": []
    },
    {
      "cell_type": "code",
      "metadata": {
        "id": "4ksVW5mhsB-i",
        "colab_type": "code",
        "colab": {}
      },
      "source": [
        "from googleapiclient.discovery import build"
      ],
      "execution_count": 0,
      "outputs": []
    },
    {
      "cell_type": "code",
      "metadata": {
        "id": "F-c9ZkXrsnAW",
        "colab_type": "code",
        "colab": {
          "base_uri": "https://localhost:8080/",
          "height": 34
        },
        "outputId": "3c87f69a-de4e-4a2d-dfd1-35223948dee7"
      },
      "source": [
        "import getpass\n",
        "APIKEY = getpass.getpass()"
      ],
      "execution_count": 3,
      "outputs": [
        {
          "output_type": "stream",
          "text": [
            "··········\n"
          ],
          "name": "stdout"
        }
      ]
    },
    {
      "cell_type": "code",
      "metadata": {
        "id": "gGLdFbjdsVNh",
        "colab_type": "code",
        "colab": {}
      },
      "source": [
        "service = build('translate', 'v2', developerKey=APIKEY)"
      ],
      "execution_count": 0,
      "outputs": []
    },
    {
      "cell_type": "code",
      "metadata": {
        "id": "EdvRFg9AsXyB",
        "colab_type": "code",
        "colab": {}
      },
      "source": [
        "def extract_text(img_url):\n",
        "\n",
        "  vservice = build('vision', 'v1', developerKey=APIKEY)\n",
        "  request = vservice.images().annotate(body={\n",
        "        'requests': [{\n",
        "                'image': {\n",
        "                    'source': {\n",
        "                        'imageUri': img_url\n",
        "                    }\n",
        "                },\n",
        "                'features': [{\n",
        "                    'type': 'TEXT_DETECTION',\n",
        "                    'maxResults': 5,\n",
        "                }]\n",
        "            }],\n",
        "        })\n",
        "  responses = request.execute(num_retries=5)\n",
        "  return responses"
      ],
      "execution_count": 0,
      "outputs": []
    },
    {
      "cell_type": "code",
      "metadata": {
        "id": "EZ1vX8e5tBRJ",
        "colab_type": "code",
        "colab": {}
      },
      "source": [
        "#extract_text(\"https://raw.githubusercontent.com/geoffswc/Images/master/printing.png\")"
      ],
      "execution_count": 0,
      "outputs": []
    },
    {
      "cell_type": "code",
      "metadata": {
        "id": "la0qNRrzt4qF",
        "colab_type": "code",
        "colab": {}
      },
      "source": [
        "printed_text = extract_text(\"https://raw.githubusercontent.com/geoffswc/Images/master/printing.png\")['responses'][0]['textAnnotations'][0]['description']"
      ],
      "execution_count": 0,
      "outputs": []
    },
    {
      "cell_type": "code",
      "metadata": {
        "id": "ZWfziv1dxekl",
        "colab_type": "code",
        "colab": {
          "base_uri": "https://localhost:8080/",
          "height": 187
        },
        "outputId": "40a3c1ab-b734-453f-b837-2e7fc2608c49"
      },
      "source": [
        "print(img_text)"
      ],
      "execution_count": 23,
      "outputs": [
        {
          "output_type": "stream",
          "text": [
            "Neat, zl ll try very neatly pr me, omynay)\n",
            "weiting\n",
            "wite my\n",
            "but it Shold 'nepresent'a ' cese senavio\n",
            "por hondwritins neconihon.\n",
            "a sentence wn cursive .'This isn't\n",
            "at \"proper\" arsve,\n",
            "good\n",
            "attempt\n",
            "\n"
          ],
          "name": "stdout"
        }
      ]
    },
    {
      "cell_type": "code",
      "metadata": {
        "id": "B97jLBvUxgsb",
        "colab_type": "code",
        "colab": {}
      },
      "source": [
        "cursive_text = extract_text(\"https://raw.githubusercontent.com/geoffswc/Images/master/cursive.png\")['responses'][0]['textAnnotations'][0]['description']"
      ],
      "execution_count": 0,
      "outputs": []
    },
    {
      "cell_type": "code",
      "metadata": {
        "id": "0OoMUklLxlZ1",
        "colab_type": "code",
        "colab": {
          "base_uri": "https://localhost:8080/",
          "height": 187
        },
        "outputId": "d194ed56-5eb0-46a8-f075-a0ba762164a4"
      },
      "source": [
        "print(cursive_text)"
      ],
      "execution_count": 27,
      "outputs": [
        {
          "output_type": "stream",
          "text": [
            "Neat, zl ll try very neatly pr me, omynay)\n",
            "weiting\n",
            "wite my\n",
            "but it Shold 'nepresent'a ' cese senavio\n",
            "por hondwritins neconihon.\n",
            "a sentence wn cursive .'This isn't\n",
            "at \"proper\" arsve,\n",
            "good\n",
            "attempt\n",
            "\n"
          ],
          "name": "stdout"
        }
      ]
    },
    {
      "cell_type": "code",
      "metadata": {
        "id": "EV4vtF2fxwYh",
        "colab_type": "code",
        "colab": {}
      },
      "source": [
        "typed_text = extract_text(\"https://raw.githubusercontent.com/geoffswc/Images/master/typing.png\")['responses'][0]['textAnnotations'][0]['description']"
      ],
      "execution_count": 0,
      "outputs": []
    },
    {
      "cell_type": "code",
      "metadata": {
        "id": "BZaOGjP_0B4N",
        "colab_type": "code",
        "colab": {
          "base_uri": "https://localhost:8080/",
          "height": 374
        },
        "outputId": "bd64a69e-2654-4c92-c34c-53265b95b520"
      },
      "source": [
        "print(typed_text)"
      ],
      "execution_count": 31,
      "outputs": [
        {
          "output_type": "stream",
          "text": [
            "1 MIT License\n",
            "Copyright (c) 2020 geoffswc\n",
            "Permission is hereby granted, free of charge, to any person obtaining a copy\n",
            "of this software and associated documentation files (the \"Software\"), to deal\n",
            "in the Software without restriction, including without limitation the rights\n",
            "%3D\n",
            "to use, copy, modify, merge, publish, distribute, sublicense, and/or sell\n",
            "copies of the Software, and to permit persons to whom the Software is\n",
            "furnished to do so, subject to the following conditions:\n",
            "The above copyright notice and this permission notice shall be included in all\n",
            "copies or substantial portions of the Software.\n",
            "THE SOFTWARE IS PROVIDED \"AS IS\", WITHOUT WARRANTY OF ANY KIND, EXPRESS OR\n",
            "IMPLIED, INCLUDING BUT NOT LIMITED TO THE WARRANTIES OF MERCHANTABILITY,\n",
            "7\n",
            "FITNESS FOR A PARTICULAR PURPOSE AND NONINFRINGEMENT. IN NO EVENT SHALL THE\n",
            "AUTHORS OR COPYRIGHT HOLDERS BE LIABLE FOR ANY CLAIM, DAMAGES OR OTHER\n",
            "LIABILITY, WHETHER IN AN ACTION OF CONTRACT, TORT OR OTHERWISE, ARISING FROM,\n",
            "OUT OF OR IN CONNECTION WITH THE SOFTWARE OR THE USE OR OTHER DEALINGS IN THE\n",
            "1 SOFTWARE.\n",
            "కాతంవేయయవేారు\n",
            "\n"
          ],
          "name": "stdout"
        }
      ]
    },
    {
      "cell_type": "code",
      "metadata": {
        "id": "AMJAPL-t0GOr",
        "colab_type": "code",
        "colab": {}
      },
      "source": [
        "# sentiment\n",
        "lservice = build('language', 'v1', developerKey=APIKEY)"
      ],
      "execution_count": 0,
      "outputs": []
    },
    {
      "cell_type": "code",
      "metadata": {
        "id": "Ob_xXBIw0u3a",
        "colab_type": "code",
        "colab": {}
      },
      "source": [
        "def read_sentiment(document_str):\n",
        "  response = lservice.documents().analyzeSentiment(\n",
        "    body={\n",
        "      'document': {\n",
        "        'type': 'PLAIN_TEXT',\n",
        "        'content': document_str\n",
        "    }\n",
        "  }).execute()\n",
        " \n",
        "  return response"
      ],
      "execution_count": 0,
      "outputs": []
    },
    {
      "cell_type": "code",
      "metadata": {
        "id": "0NaVpRzy0vOr",
        "colab_type": "code",
        "colab": {
          "base_uri": "https://localhost:8080/",
          "height": 122
        },
        "outputId": "c3a64ca3-753a-46cd-9d5f-1b517128ce30"
      },
      "source": [
        "read_sentiment(printed_text)"
      ],
      "execution_count": 35,
      "outputs": [
        {
          "output_type": "execute_result",
          "data": {
            "text/plain": [
              "{'documentSentiment': {'magnitude': 0.2, 'score': -0.2},\n",
              " 'language': 'en',\n",
              " 'sentences': [{'sentiment': {'magnitude': 0.2, 'score': -0.2},\n",
              "   'text': {'beginOffset': -1,\n",
              "    'content': \"First, I'll try very atat ly (for me, anyway) pratag\\na sentence Thi's isn't quite my aftemptat\\ncase scenario for handawriting recog si hon\"}}]}"
            ]
          },
          "metadata": {
            "tags": []
          },
          "execution_count": 35
        }
      ]
    },
    {
      "cell_type": "code",
      "metadata": {
        "id": "9L371wvO04uE",
        "colab_type": "code",
        "colab": {
          "base_uri": "https://localhost:8080/",
          "height": 258
        },
        "outputId": "552359a5-4f47-4988-f5b9-4751c6de453a"
      },
      "source": [
        "read_sentiment(typed_text)"
      ],
      "execution_count": 36,
      "outputs": [
        {
          "output_type": "execute_result",
          "data": {
            "text/plain": [
              "{'documentSentiment': {'magnitude': 1.4, 'score': 0},\n",
              " 'language': 'en',\n",
              " 'sentences': [{'sentiment': {'magnitude': 0.1, 'score': 0.1},\n",
              "   'text': {'beginOffset': -1,\n",
              "    'content': '1 MIT License\\nCopyright (c) 2020 geoffswc\\nPermission is hereby granted, free of charge, to any person obtaining a copy\\nof this software and associated documentation files (the \"Software\"), to deal\\nin the Software without restriction, including without limitation the rights\\n%3D\\nto use, copy, modify, merge, publish, distribute, sublicense, and/or sell\\ncopies of the Software, and to permit persons to whom the Software is\\nfurnished to do so, subject to the following conditions:\\nThe above copyright notice and this permission notice shall be included in all\\ncopies or substantial portions of the Software.'}},\n",
              "  {'sentiment': {'magnitude': 0.5, 'score': -0.5},\n",
              "   'text': {'beginOffset': -1,\n",
              "    'content': 'THE SOFTWARE IS PROVIDED \"AS IS\", WITHOUT WARRANTY OF ANY KIND, EXPRESS OR\\nIMPLIED, INCLUDING BUT NOT LIMITED TO THE WARRANTIES OF MERCHANTABILITY,\\n7\\nFITNESS FOR A PARTICULAR PURPOSE AND NONINFRINGEMENT.'}},\n",
              "  {'sentiment': {'magnitude': 0.3, 'score': -0.3},\n",
              "   'text': {'beginOffset': -1,\n",
              "    'content': 'IN NO EVENT SHALL THE\\nAUTHORS OR COPYRIGHT HOLDERS BE LIABLE FOR ANY CLAIM, DAMAGES OR OTHER\\nLIABILITY, WHETHER IN AN ACTION OF CONTRACT, TORT OR OTHERWISE, ARISING FROM,\\nOUT OF OR IN CONNECTION WITH THE SOFTWARE OR THE USE OR OTHER DEALINGS IN THE\\n1 SOFTWARE.'}},\n",
              "  {'sentiment': {'magnitude': 0.3, 'score': 0.3},\n",
              "   'text': {'beginOffset': -1, 'content': 'కాతంవేయయవేారు'}}]}"
            ]
          },
          "metadata": {
            "tags": []
          },
          "execution_count": 36
        }
      ]
    },
    {
      "cell_type": "code",
      "metadata": {
        "id": "xfJbeXPq1AIW",
        "colab_type": "code",
        "colab": {}
      },
      "source": [
        "def read_categories(text):\n",
        "  try:\n",
        "    response = lservice.documents().classifyText(\n",
        "      body={\n",
        "        'document': {\n",
        "          'type': 'PLAIN_TEXT',\n",
        "          'content': text }\n",
        "    }).execute()\n",
        "  except:\n",
        "    response = \"\"\n",
        "  return response"
      ],
      "execution_count": 0,
      "outputs": []
    },
    {
      "cell_type": "code",
      "metadata": {
        "id": "_HyrU_V82TQD",
        "colab_type": "code",
        "colab": {
          "base_uri": "https://localhost:8080/",
          "height": 34
        },
        "outputId": "aa139bd2-23da-4271-bb7c-7baae88d3482"
      },
      "source": [
        "read_categories(printed_text)"
      ],
      "execution_count": 39,
      "outputs": [
        {
          "output_type": "execute_result",
          "data": {
            "text/plain": [
              "{'categories': []}"
            ]
          },
          "metadata": {
            "tags": []
          },
          "execution_count": 39
        }
      ]
    },
    {
      "cell_type": "code",
      "metadata": {
        "id": "cSb4dF1v2VX0",
        "colab_type": "code",
        "colab": {
          "base_uri": "https://localhost:8080/",
          "height": 51
        },
        "outputId": "47e9114a-fe23-46ff-ab37-4ba8b35c45e0"
      },
      "source": [
        "read_categories(typed_text)"
      ],
      "execution_count": 40,
      "outputs": [
        {
          "output_type": "execute_result",
          "data": {
            "text/plain": [
              "{'categories': [{'confidence': 0.75,\n",
              "   'name': '/Computers & Electronics/Software'}]}"
            ]
          },
          "metadata": {
            "tags": []
          },
          "execution_count": 40
        }
      ]
    },
    {
      "cell_type": "code",
      "metadata": {
        "id": "Th1s3ICh2YaV",
        "colab_type": "code",
        "colab": {}
      },
      "source": [
        ""
      ],
      "execution_count": 0,
      "outputs": []
    }
  ]
}